{
  "nbformat": 4,
  "nbformat_minor": 0,
  "metadata": {
    "colab": {
      "provenance": []
    },
    "kernelspec": {
      "name": "python3",
      "display_name": "Python 3"
    },
    "language_info": {
      "name": "python"
    }
  },
  "cells": [
    {
      "cell_type": "markdown",
      "source": [
        "# Implementación Count-Min Sketch\n",
        "Natalia Ruiz Martínez"
      ],
      "metadata": {
        "id": "6NOhn9knvd02"
      }
    },
    {
      "cell_type": "code",
      "source": [
        "import math\n",
        "import numpy as np\n",
        "import random\n",
        "\n",
        "class CountMinSketch:\n",
        "\n",
        "  # Constructor de la clase\n",
        "  def __init__(self, epsilon, delta):\n",
        "\n",
        "    # Comprueba si los valores de epsilon y delta se encuentran dentro del intervalo correcto\n",
        "    if epsilon <= 0 or epsilon >= 1:\n",
        "        raise ValueError(\"Se debe establece epsilon entre 0 y 1\")\n",
        "    if delta <= 0 or delta >= 1:\n",
        "        raise ValueError(\"Se debe establece delta entre 0 y 1\")\n",
        "\n",
        "    # Definición del número de filas (d) y columnas (w)\n",
        "    self.d = math.ceil(np.log(1/delta))\n",
        "    self.w = math.ceil(math.e/epsilon)\n",
        "\n",
        "    # Se crea una familia de d funciones a partir del método hash_function, que por su construcción garantiza que la familia sea 2-independiente\n",
        "    self.hash_family = [self.hash_function() for _ in range(self.d)]\n",
        "\n",
        "    # Se crea la matriz sketch C y se inicializa en cero\n",
        "    self.C = np.zeros((self.d, self.w), int)\n",
        "\n",
        "\n",
        "  # Se actualiza la matriz contando todos los elementos del dataset\n",
        "  def update(self, dataset):\n",
        "\n",
        "    for element in dataset:\n",
        "\n",
        "      for j in range(self.d):\n",
        "\n",
        "        # Para poder aplicar las funciones creadas con hash_function, el elemento debe estar en formato numérico,\n",
        "        # luego se aplica hash (que devuelve un hash del elemento positivo o negativo) y se le aplica el valor absoluto\n",
        "        self.C[j, self.hash_family[j](abs(hash(element)))] += 1\n",
        "\n",
        "\n",
        "  # Se calcula la frecuencia de element en el dataset\n",
        "  def frecuency(self, element):\n",
        "\n",
        "    # Se guarda el valor de cada fila de la matriz correspondiente a la aplicación de la función hash sobre el elemento\n",
        "    min_count = [self.C[j, self.hash_family[j](abs(hash(element)))] for j in range(self.d)]\n",
        "\n",
        "    # Se devuelve el mínimo de todos los valores guardados, que corresponde con la estimación de la frecuencia\n",
        "    return min(min_count)\n",
        "\n",
        "\n",
        "  # Este método devuelve una función\n",
        "  def hash_function(self):\n",
        "\n",
        "    # Se elige un número primo grande aleatorio p, por ejemplo, el siguiente\n",
        "    p = 2**61 - 1\n",
        "\n",
        "    # Se eligen dos enteros a y b de forma aleatoria entre 0 y el número primo p\n",
        "    a = random.randint(0, p)\n",
        "    b = random.randint(0, p)\n",
        "\n",
        "    # Se devuelve una función que dado un elemento (en forma numérica) devuelve un entero entre 0 y w-1\n",
        "    return lambda element: (a * element + b) % p % self.w"
      ],
      "metadata": {
        "id": "pBYuLvn0WbFn"
      },
      "execution_count": null,
      "outputs": []
    },
    {
      "cell_type": "markdown",
      "source": [
        "Importamos el dataset Airline Passenger Satisfaction de Kaggle."
      ],
      "metadata": {
        "id": "wf8BV537rNv0"
      }
    },
    {
      "cell_type": "code",
      "source": [
        "from google.colab import files\n",
        "files.upload() # importar kaggle.json"
      ],
      "metadata": {
        "id": "aRlrUBT5qIgF"
      },
      "execution_count": null,
      "outputs": []
    },
    {
      "cell_type": "code",
      "source": [
        "! mkdir -p ~/.kaggle\n",
        "! cp kaggle.json ~/.kaggle/\n",
        "! chmod 600 ~/.kaggle/kaggle.json\n",
        "!kaggle datasets download -d teejmahal20/airline-passenger-satisfaction\n",
        "!unzip airline-passenger-satisfaction.zip"
      ],
      "metadata": {
        "colab": {
          "base_uri": "https://localhost:8080/"
        },
        "id": "0h3-rHuu3GWC",
        "outputId": "73f75e5f-4336-4a1e-b29b-9e03702477e9"
      },
      "execution_count": null,
      "outputs": [
        {
          "output_type": "stream",
          "name": "stdout",
          "text": [
            "Downloading airline-passenger-satisfaction.zip to /content\n",
            "\r  0% 0.00/2.71M [00:00<?, ?B/s]\n",
            "\r100% 2.71M/2.71M [00:00<00:00, 231MB/s]\n",
            "Archive:  airline-passenger-satisfaction.zip\n",
            "  inflating: test.csv                \n",
            "  inflating: train.csv               \n"
          ]
        }
      ]
    },
    {
      "cell_type": "markdown",
      "source": [
        "Los datos están divididos en dos grupos, en este caso usaremos train.csv para comprobar que el algoritmo anterior funciona correctamente. Para ello, comprobamos previamente cuantos datos de cada tipo distinto existen en Class."
      ],
      "metadata": {
        "id": "Lps6PvmRr9mV"
      }
    },
    {
      "cell_type": "code",
      "source": [
        "import pandas as pd\n",
        "data = pd.read_csv('train.csv')\n",
        "data['Class'].value_counts()"
      ],
      "metadata": {
        "colab": {
          "base_uri": "https://localhost:8080/"
        },
        "id": "dQsjlC1VmvNV",
        "outputId": "47d97f09-96b0-4da4-9990-0f30ab7c9247"
      },
      "execution_count": null,
      "outputs": [
        {
          "output_type": "execute_result",
          "data": {
            "text/plain": [
              "Business    49665\n",
              "Eco         46745\n",
              "Eco Plus     7494\n",
              "Name: Class, dtype: int64"
            ]
          },
          "metadata": {},
          "execution_count": 4
        }
      ]
    },
    {
      "cell_type": "markdown",
      "source": [
        "A continuación, creamos un objeto de clase CountMinSketch, establecemos $\\epsilon = 0.005$ y $\\delta = 10^{-7}$, definimos el dataset, actualizamos la matriz con los datos y obtenemos la frecuencia del elemento Business."
      ],
      "metadata": {
        "id": "0RR2x_66sgwE"
      }
    },
    {
      "cell_type": "code",
      "source": [
        "sketch = CountMinSketch(epsilon=0.005, delta=10**-7)"
      ],
      "metadata": {
        "id": "8OI8tggAyZID"
      },
      "execution_count": null,
      "outputs": []
    },
    {
      "cell_type": "code",
      "source": [
        "dataset = data['Class']"
      ],
      "metadata": {
        "id": "W5vQlbDZpIcH"
      },
      "execution_count": null,
      "outputs": []
    },
    {
      "cell_type": "code",
      "source": [
        "sketch.update(dataset)"
      ],
      "metadata": {
        "id": "EdPnQfl_ypI9"
      },
      "execution_count": null,
      "outputs": []
    },
    {
      "cell_type": "code",
      "source": [
        "sketch.frecuency('Business')"
      ],
      "metadata": {
        "colab": {
          "base_uri": "https://localhost:8080/"
        },
        "id": "VbB80JvZzK84",
        "outputId": "d0674eda-0d11-4139-bd60-1cdf26d5eb80"
      },
      "execution_count": null,
      "outputs": [
        {
          "output_type": "execute_result",
          "data": {
            "text/plain": [
              "49665"
            ]
          },
          "metadata": {},
          "execution_count": 8
        }
      ]
    },
    {
      "cell_type": "markdown",
      "source": [
        "Luego el algoritmo ha estimado correctamente la frecuencia del elemento."
      ],
      "metadata": {
        "id": "3XzbmTnrU1Pn"
      }
    }
  ]
}