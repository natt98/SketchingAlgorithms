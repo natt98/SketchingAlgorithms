{
  "nbformat": 4,
  "nbformat_minor": 0,
  "metadata": {
    "colab": {
      "provenance": []
    },
    "kernelspec": {
      "name": "python3",
      "display_name": "Python 3"
    },
    "language_info": {
      "name": "python"
    }
  },
  "cells": [
    {
      "cell_type": "markdown",
      "source": [
        "# Implementación Bloom filter\n"
      ],
      "metadata": {
        "id": "lhIg5mcMyvLB"
      }
    },
    {
      "cell_type": "code",
      "source": [
        "import math\n",
        "import numpy as np\n",
        "import random\n",
        "\n",
        "class BloomFilter:\n",
        "\n",
        "  def __init__(self, p, dataset):\n",
        "\n",
        "    # Comprueba si el valor de p se encuentra dentro del intervalo correcto\n",
        "    if p <= 0 or p >= 1:\n",
        "        raise ValueError(\"La probabilidad de falso positivo debe estar entre 0 y 1\")\n",
        "\n",
        "    self.dataset = dataset\n",
        "\n",
        "    # Longitud del dataset\n",
        "    self.n = len(dataset)\n",
        "\n",
        "    # Longitud del array. Se elige el entero más cercano a la aproximación de m\n",
        "    self.m = int(- self.n * math.log(p) / math.log(2)**2)\n",
        "\n",
        "    # Cantidad de funciones hash. Se elige el entero más cercano a la aproximación de k\n",
        "    self.k = int(- math.log(p) / math.log(2))\n",
        "\n",
        "    # Se crea una familia de k funciones a partir del método hash_function, que por su construcción garantiza que la familia sea k-independiente\n",
        "    self.hash_family = [self.hash_function() for _ in range(self.k)]\n",
        "\n",
        "    # Se crea una array de tamaño m inicializado en cero\n",
        "    self.B = np.zeros(self.m, int)\n",
        "\n",
        "\n",
        "  # Se actualiza el array contando todos los elementos del dataset\n",
        "  def update(self):\n",
        "\n",
        "    for element in self.dataset:\n",
        "\n",
        "      for j in range(self.k):\n",
        "\n",
        "        # Para poder aplicar las funciones creadas con hash_function, el elemento debe estar en formato numérico,\n",
        "        # luego se aplica hash (que devuelve un hash del elemento positivo o negativo) y se le aplica el valor absoluto\n",
        "        self.B[self.hash_family[j](abs(hash(element)))] = 1\n",
        "\n",
        "\n",
        "  # Se comprueba si un elemento pertenece al dataset\n",
        "  def membership(self, element):\n",
        "\n",
        "    for j in range(self.k):\n",
        "\n",
        "        # Si al aplicar la función hash el bit del array es cero, entonces el elemento no existe en el dataset\n",
        "        if self.B[self.hash_family[j](abs(hash(element)))] == 0:\n",
        "\n",
        "          return \"El elemento '\" + str(element) + \"' no se encuentra en el dataset proporcionado.\"\n",
        "\n",
        "        return \"El elemento '\" + str(element) + \"' se encuentra en el dataset proporcionado.\"\n",
        "\n",
        "\n",
        "\n",
        "  # Este método devuelve una función\n",
        "  def hash_function(self):\n",
        "\n",
        "    # Se elige un número primo grande aleatorio p, por ejemplo, el siguiente\n",
        "    p = 2**61 - 1\n",
        "\n",
        "    # Se eligen k enteros de forma aleatoria entre 0 y el número primo p\n",
        "    a = [random.randint(0, p) for _ in range(self.k)]\n",
        "\n",
        "    # Se devuelve una función que dado un elemento (en forma numérica) devuelve un entero entre 0 y m-1\n",
        "    return lambda element: sum([a[i]*element**i for i in range(self.k)]) % p % self.m\n"
      ],
      "metadata": {
        "id": "v0I3v93y4qEC"
      },
      "execution_count": null,
      "outputs": []
    },
    {
      "cell_type": "markdown",
      "source": [
        "Importamos el dataset Airline Passenger Satisfaction de Kaggle."
      ],
      "metadata": {
        "id": "Dl1Z4T68Hyxr"
      }
    },
    {
      "cell_type": "code",
      "source": [
        "from google.colab import files\n",
        "files.upload()"
      ],
      "metadata": {
        "id": "R0Om_kuRhF83"
      },
      "execution_count": null,
      "outputs": []
    },
    {
      "cell_type": "code",
      "source": [
        "! mkdir -p ~/.kaggle\n",
        "! cp kaggle.json ~/.kaggle/\n",
        "! chmod 600 ~/.kaggle/kaggle.json\n",
        "!kaggle datasets download -d teejmahal20/airline-passenger-satisfaction\n",
        "!unzip airline-passenger-satisfaction.zip"
      ],
      "metadata": {
        "colab": {
          "base_uri": "https://localhost:8080/"
        },
        "id": "3Fig8vNbHmdp",
        "outputId": "f0c68324-c8d6-41f8-dcd9-579b701d7b96"
      },
      "execution_count": null,
      "outputs": [
        {
          "output_type": "stream",
          "name": "stdout",
          "text": [
            "Downloading airline-passenger-satisfaction.zip to /content\n",
            "\r  0% 0.00/2.71M [00:00<?, ?B/s]\n",
            "\r100% 2.71M/2.71M [00:00<00:00, 143MB/s]\n",
            "Archive:  airline-passenger-satisfaction.zip\n",
            "  inflating: test.csv                \n",
            "  inflating: train.csv               \n"
          ]
        }
      ]
    },
    {
      "cell_type": "markdown",
      "source": [
        "Los datos están divididos en dos grupos, en este caso usaremos train.csv para comprobar que el algoritmo anterior funciona correctamente. Para ello, comprobamos previamente si existe alguna edad en particular dentro del grupo Age."
      ],
      "metadata": {
        "id": "CI1EAYbFH3Kl"
      }
    },
    {
      "cell_type": "code",
      "source": [
        "import pandas as pd\n",
        "data = pd.read_csv('train.csv')\n",
        "edad = 13\n",
        "if edad in data['Age'].values:\n",
        "  print('Existe alguien con edad ' + str(edad) + ' en el dataset.')\n",
        "else:\n",
        "  print('No existe alguien con edad ' + str(edad) + ' en el dataset.')"
      ],
      "metadata": {
        "colab": {
          "base_uri": "https://localhost:8080/"
        },
        "id": "HZCI8_XxHrE1",
        "outputId": "23d4ef59-a89f-4a5d-bad2-4980d689c3af"
      },
      "execution_count": null,
      "outputs": [
        {
          "output_type": "stream",
          "name": "stdout",
          "text": [
            "Existe alguien con edad 13 en el dataset.\n"
          ]
        }
      ]
    },
    {
      "cell_type": "markdown",
      "source": [
        "A continuación, creamos un objeto de clase BloomFilter, establecemos $p = 0.01$, definimos el dataset, actualizamos el array con los datos y comprobamos si un elemento pertenece o no al dataset."
      ],
      "metadata": {
        "id": "vs6Icl-JUn-k"
      }
    },
    {
      "cell_type": "code",
      "source": [
        "bf = BloomFilter(p=0.01, dataset=data['Age'])"
      ],
      "metadata": {
        "id": "b71k1AjaFZ2x"
      },
      "execution_count": null,
      "outputs": []
    },
    {
      "cell_type": "code",
      "source": [
        "bf.update()"
      ],
      "metadata": {
        "id": "oftmpYr9FfWf"
      },
      "execution_count": null,
      "outputs": []
    },
    {
      "cell_type": "code",
      "source": [
        "bf.membership(13)"
      ],
      "metadata": {
        "colab": {
          "base_uri": "https://localhost:8080/",
          "height": 35
        },
        "id": "jaaZs7CjF3ML",
        "outputId": "4f47e17b-b3c1-4086-eff0-2e4917d8a2b8"
      },
      "execution_count": null,
      "outputs": [
        {
          "output_type": "execute_result",
          "data": {
            "text/plain": [
              "\"El elemento '13' se encuentra en el dataset proporcionado.\""
            ],
            "application/vnd.google.colaboratory.intrinsic+json": {
              "type": "string"
            }
          },
          "metadata": {},
          "execution_count": 8
        }
      ]
    },
    {
      "cell_type": "markdown",
      "source": [
        "Vemos que estima correctamente que el elemento se encuentra en el dataset. Si comprobamos una edad que no está (por ejemplo, una edad de 500 años sería imposible), dará como resultado que no se encuentra en el dataset."
      ],
      "metadata": {
        "id": "Nic8me0kVQ8L"
      }
    },
    {
      "cell_type": "code",
      "source": [
        "bf.membership(500)"
      ],
      "metadata": {
        "colab": {
          "base_uri": "https://localhost:8080/",
          "height": 35
        },
        "id": "f1_Mi6XkUU09",
        "outputId": "30175921-f79c-4d41-b1fa-3b8effcb7fb4"
      },
      "execution_count": null,
      "outputs": [
        {
          "output_type": "execute_result",
          "data": {
            "text/plain": [
              "\"El elemento '500' no se encuentra en el dataset proporcionado.\""
            ],
            "application/vnd.google.colaboratory.intrinsic+json": {
              "type": "string"
            }
          },
          "metadata": {},
          "execution_count": 9
        }
      ]
    }
  ]
}
