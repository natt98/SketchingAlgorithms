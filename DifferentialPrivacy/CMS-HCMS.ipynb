{
  "cells": [
    {
      "cell_type": "markdown",
      "metadata": {
        "id": "HkvmM1SwpiG6"
      },
      "source": [
        "# Comparaciones entre algoritmos"
      ]
    },
    {
      "cell_type": "markdown",
      "metadata": {
        "id": "yy5hSG3LpdyR"
      },
      "source": [
        "## Importación de librerías"
      ]
    },
    {
      "cell_type": "code",
      "execution_count": null,
      "metadata": {
        "id": "lvnr2f1WnG6r"
      },
      "outputs": [],
      "source": [
        "import math\n",
        "import numpy as np\n",
        "import random\n",
        "from scipy.linalg import hadamard\n",
        "from google.colab import files\n",
        "import pandas as pd\n",
        "import time\n",
        "import openpyxl\n",
        "from openpyxl import Workbook\n",
        "from numba import jit"
      ]
    },
    {
      "cell_type": "markdown",
      "metadata": {
        "id": "xp-fVeYCnMg-"
      },
      "source": [
        "## Count Mean Sketch"
      ]
    },
    {
      "cell_type": "code",
      "execution_count": null,
      "metadata": {
        "id": "ew4QjPZalVXO"
      },
      "outputs": [],
      "source": [
        "class CountMeanSketch:\n",
        "\n",
        "  # Constructor de la clase\n",
        "  def __init__(self, epsilon, k, m):\n",
        "\n",
        "    self.epsilon = epsilon\n",
        "    self.k = k\n",
        "    self.m = m\n",
        "\n",
        "    # Se crea una familia de d funciones a partir del método hash_function, que por su construcción garantiza que la familia sea 3-independiente\n",
        "    self.hash_family = [self.hash_function() for _ in range(k)]\n",
        "\n",
        "    # Se crea la matriz sketch M y se inicializa en cero\n",
        "    self.M = np.zeros((k, m))\n",
        "\n",
        "\n",
        "  # Lado cliente\n",
        "  def Cliente(self, dataset):\n",
        "\n",
        "    self.res_cliente = []\n",
        "\n",
        "    for d in dataset:\n",
        "\n",
        "      # Se elige j al azar\n",
        "      j = random.randint(0, self.k - 1)\n",
        "\n",
        "      # Se inicia vector v en -1 de tamaño m\n",
        "      v = np.full(self.m, -1)\n",
        "\n",
        "      # Se coloca un 1 en la posición v[h_j(d)]\n",
        "      v[self.hash_family[j](d)] = 1\n",
        "\n",
        "      # Se genera un vector b\n",
        "      b = self.generar_b()\n",
        "\n",
        "      # Se calcula el vector v'\n",
        "      v2 = v * b\n",
        "\n",
        "      # Se acumulan los pares en la lista res_cliente\n",
        "      self.res_cliente.append([v2, j])\n",
        "\n",
        "\n",
        "  # Lado servidor\n",
        "  def Servidor(self):\n",
        "\n",
        "    # Se define c_epsilon\n",
        "    c = (math.exp(self.epsilon/2) + 1) / (math.exp(self.epsilon/2) - 1)\n",
        "\n",
        "    for v2, j in self.res_cliente: # se hace para cada par de elementos recibidos del lado cliente\n",
        "      x = self.k * (c/2 * v2 + 1/2)\n",
        "\n",
        "      # Se actualiza la matriz M\n",
        "      self.M[j, :] += x # Se suma a la fila j cada valor del vector x\n",
        "\n",
        "\n",
        "\n",
        "  # Se calcula la frecuencia de un elemento en el dataset\n",
        "  def frecuencia(self, element):\n",
        "\n",
        "    # Se guarda el valor de cada fila de la matriz correspondiente a la aplicación de la función hash sobre el elemento\n",
        "    return (self.m/(self.m - 1)) * (1/self.k * sum([self.M[l, self.hash_family[l](element)] for l in range(self.k)]) - len(self.res_cliente)/self.m)\n",
        "\n",
        "\n",
        "\n",
        "  # Este método devuelve una función hash\n",
        "  # Técnica propuesta por Carter y Wegman empleando polinomios con coeficiente aleatorios\n",
        "  def hash_function(self):\n",
        "\n",
        "    # Se elige un número primo grande aleatorio p, por ejemplo, el siguiente\n",
        "    p = 2**61 - 1\n",
        "\n",
        "    # Se eligen dos enteros a y b de forma aleatoria entre 0 y el número primo p\n",
        "    a = random.randint(0, p)\n",
        "    b = random.randint(0, p)\n",
        "    c = random.randint(0, p)\n",
        "\n",
        "    # Se devuelve una función que dado un elemento devuelve un entero entre 0 y m-1\n",
        "    return lambda element: (a * abs(hash(element))**2 + b * abs(hash(element)) + c) % p % self.m\n",
        "\n",
        "  # Método que genera un vector b de 1s y -1s\n",
        "  def generar_b(self): # se le pasa el tamaño del vector\n",
        "\n",
        "    b_l = [1, -1]\n",
        "\n",
        "    p1 = math.exp(self.epsilon/2) / (1 + math.exp(self.epsilon/2))\n",
        "    p2 = 1 / (1 + math.exp(self.epsilon/2))\n",
        "\n",
        "    b = random.choices(b_l, weights = [p1, p2], k = self.m)\n",
        "\n",
        "    return np.array(b)"
      ]
    },
    {
      "cell_type": "markdown",
      "metadata": {
        "id": "qflT9kwOpTy8"
      },
      "source": [
        "## Hadamard Count Mean Sketch"
      ]
    },
    {
      "cell_type": "code",
      "execution_count": null,
      "metadata": {
        "id": "eJ49W0SRnCN3"
      },
      "outputs": [],
      "source": [
        "class HadamardCountMeanSketch:\n",
        "\n",
        "  # Constructor de la clase\n",
        "  def __init__(self, epsilon, k, m):\n",
        "\n",
        "    # Comprueba si m es potencia de 2 (necesario para la matriz de Hadamard)\n",
        "    if m <= 0 or not(math.log2(m).is_integer()):\n",
        "        raise ValueError(\"El valor de m debe ser potencia de 2.\")\n",
        "\n",
        "    self.epsilon = epsilon\n",
        "    self.k = k\n",
        "    self.m = m\n",
        "\n",
        "    # Se crea una familia de d funciones a partir del método hash_function, que por su construcción garantiza que la familia sea 3-independiente\n",
        "    self.hash_family = [self.hash_function() for _ in range(k)]\n",
        "\n",
        "    # Se crea la matriz sketch M y se inicializa en cero\n",
        "    self.M = np.zeros((k, m))\n",
        "\n",
        "\n",
        "  # Lado cliente\n",
        "  def Cliente(self, dataset):\n",
        "\n",
        "    self.res_cliente = []\n",
        "\n",
        "    hadamard_matrix = hadamard(self.m)\n",
        "\n",
        "    for d in dataset:\n",
        "\n",
        "      # Se elige j al azar\n",
        "      j = random.randint(0, self.k - 1)\n",
        "\n",
        "      # Se inicia vector v en 0 de tamaño m\n",
        "      v = np.full(self.m, 0)\n",
        "\n",
        "      # Se coloca un 1 en la posición v[h_j(d)]\n",
        "      v[self.hash_family[j](d)] = 1\n",
        "\n",
        "      # Se calcula w (el operador @ multiplica matrices)\n",
        "      w = hadamard_matrix @ v\n",
        "\n",
        "      # Se elige l al azar\n",
        "      l = random.randint(0, self.m - 1)\n",
        "\n",
        "      # Se genera un vector b\n",
        "      b = self.generar_b()\n",
        "\n",
        "      # Se calcula w' (el resultado es un escalar)\n",
        "      w2 = b * w[l]\n",
        "\n",
        "      # Se acumulan los pares en la lista res_cliente\n",
        "      self.res_cliente.append([w2, j, l])\n",
        "\n",
        "\n",
        "  # Lado servidor\n",
        "  def Servidor(self):\n",
        "\n",
        "    # Se define c_epsilon\n",
        "    c = (math.exp(self.epsilon) + 1) / (math.exp(self.epsilon) - 1)\n",
        "\n",
        "    for w2, j, l in self.res_cliente: # se hace para cada trío de elementos recibidos del lado cliente\n",
        "      x = self.k * c * w2\n",
        "\n",
        "      # Se actualiza la matriz M\n",
        "      self.M[j, l] += x # Se suma a la fila j y columna l cada valor del vector x\n",
        "\n",
        "    self.M = self.M @ np.transpose(hadamard(self.m))\n",
        "\n",
        "\n",
        "  # Se calcula la frecuencia de un elemento en el dataset\n",
        "  def frecuencia(self, element):\n",
        "\n",
        "    # Se guarda el valor de cada fila de la matriz correspondiente a la aplicación de la función hash sobre el elemento\n",
        "    return (self.m/(self.m - 1)) * (1/self.k * sum([self.M[l, self.hash_family[l](element)] for l in range(self.k)]) - len(self.res_cliente)/self.m)\n",
        "\n",
        "\n",
        "\n",
        "  # Este método devuelve una función\n",
        "  def hash_function(self):\n",
        "\n",
        "    # Se elige un número primo grande aleatorio p, por ejemplo, el siguiente\n",
        "    p = 2**61 - 1\n",
        "\n",
        "    # Se eligen dos enteros a y b de forma aleatoria entre 0 y el número primo p\n",
        "    a = random.randint(0, p)\n",
        "    b = random.randint(0, p)\n",
        "    c = random.randint(0, p)\n",
        "\n",
        "    # Se devuelve una función que dado un elemento devuelve un entero entre 0 y m-1\n",
        "    return lambda element: (a * abs(hash(element))**2 + b * abs(hash(element)) + c) % p % self.m\n",
        "\n",
        "  # Método que genera un vector b de 1s y -1s\n",
        "  def generar_b(self): # se le pasa el tamaño del vector\n",
        "\n",
        "    b_l = [1, -1]\n",
        "\n",
        "    p1 = math.exp(self.epsilon/2) / (1 + math.exp(self.epsilon/2))\n",
        "    p2 = 1 / (1 + math.exp(self.epsilon/2))\n",
        "\n",
        "    b = random.choices(b_l, weights = [p1, p2])\n",
        "\n",
        "    return b[0]"
      ]
    },
    {
      "cell_type": "markdown",
      "metadata": {
        "id": "oN4OulgDpYx-"
      },
      "source": [
        "## Comparación"
      ]
    },
    {
      "cell_type": "code",
      "source": [
        "files.upload() # importar kaggle.json"
      ],
      "metadata": {
        "id": "8JLquDFCDPSW"
      },
      "execution_count": null,
      "outputs": []
    },
    {
      "cell_type": "code",
      "execution_count": null,
      "metadata": {
        "colab": {
          "base_uri": "https://localhost:8080/"
        },
        "id": "7ZJTHw16pxMm",
        "outputId": "17239ce3-abb5-42ef-96d9-cc9f2475af39"
      },
      "outputs": [
        {
          "output_type": "stream",
          "name": "stdout",
          "text": [
            "Warning: Looks like you're using an outdated API Version, please consider updating (server 1.6.14 / client 1.6.12)\n",
            "Dataset URL: https://www.kaggle.com/datasets/teejmahal20/airline-passenger-satisfaction\n",
            "License(s): other\n",
            "airline-passenger-satisfaction.zip: Skipping, found more recently modified local copy (use --force to force download)\n",
            "Archive:  airline-passenger-satisfaction.zip\n",
            "replace test.csv? [y]es, [n]o, [A]ll, [N]one, [r]ename: A\n",
            "  inflating: test.csv                \n",
            "  inflating: train.csv               \n"
          ]
        }
      ],
      "source": [
        "! mkdir -p ~/.kaggle\n",
        "! cp kaggle.json ~/.kaggle/\n",
        "! chmod 600 ~/.kaggle/kaggle.json\n",
        "!kaggle datasets download -d teejmahal20/airline-passenger-satisfaction\n",
        "!unzip airline-passenger-satisfaction.zip"
      ]
    },
    {
      "cell_type": "code",
      "execution_count": null,
      "metadata": {
        "id": "0H5JQ3Rvp5nh",
        "colab": {
          "base_uri": "https://localhost:8080/"
        },
        "outputId": "b0d4358e-c32a-441c-dd96-dd593ede66d1"
      },
      "outputs": [
        {
          "output_type": "execute_result",
          "data": {
            "text/plain": [
              "Class\n",
              "Business    49665\n",
              "Eco         46745\n",
              "Eco Plus     7494\n",
              "Name: count, dtype: int64"
            ]
          },
          "metadata": {},
          "execution_count": 6
        }
      ],
      "source": [
        "data = pd.read_csv('train.csv')\n",
        "data['Class'].value_counts()"
      ]
    },
    {
      "cell_type": "code",
      "execution_count": null,
      "metadata": {
        "id": "LejWDBd8p8Hv"
      },
      "outputs": [],
      "source": [
        "dataset = data['Class']"
      ]
    },
    {
      "cell_type": "code",
      "execution_count": null,
      "metadata": {
        "id": "tvKgxgcvsF3p"
      },
      "outputs": [],
      "source": [
        "def CMS(epsilon, k, m, dataset, elemento):\n",
        "\n",
        "  inicio = time.time()\n",
        "\n",
        "  cm = CountMeanSketch(epsilon, k, m)\n",
        "  cm.Cliente(dataset)\n",
        "  cm.Servidor()\n",
        "  frecuencia = cm.frecuencia(elemento)\n",
        "\n",
        "  fin = time.time()\n",
        "  tiempo = fin - inicio\n",
        "\n",
        "  error = abs(dataset.value_counts()[elemento] - frecuencia)  # diferencia absoluta\n",
        "\n",
        "  coste_transmision = len(dataset) * m   # en bits\n",
        "  coste_kB = coste_transmision / 8 / 1024 # kilobytes\n",
        "\n",
        "  return tiempo, frecuencia, error, coste_kB\n",
        "\n",
        "def HCMS(epsilon, k, m, dataset, elemento):\n",
        "\n",
        "  inicio = time.time()\n",
        "\n",
        "  cm = HadamardCountMeanSketch(epsilon, k, m)\n",
        "  cm.Cliente(dataset)\n",
        "  cm.Servidor()\n",
        "  frecuencia = cm.frecuencia(elemento)\n",
        "\n",
        "  fin = time.time()\n",
        "  tiempo = fin - inicio\n",
        "\n",
        "  error = abs(dataset.value_counts()[elemento] - frecuencia)  # diferencia absoluta\n",
        "\n",
        "  # coste_transmision = m   # en bits (Creo que está mal ya que en HCMS se envía un bit por cada registro, no se envía el vector m)\n",
        "  coste_transmision = len(dataset)\n",
        "  coste_kB = coste_transmision / 8 / 1024 # kilobytes\n",
        "\n",
        "  return tiempo, frecuencia, error, coste_kB"
      ]
    },
    {
      "cell_type": "code",
      "source": [
        "wb = Workbook()\n",
        "\n",
        "# Hacer el archivo de trabajo activo\n",
        "ws = wb.active\n",
        "\n",
        "# Añadir registro\n",
        "ws.append([\"Parámetros\", \"TiempoCMS\", \"TiempoHCMS\", \"FrecuenciaCMS\", \"FrecuenciaHCMS\", \"ErrorCMS\", \"ErrorHCMS\", \"CosteCMS\", \"CosteHCMS\"])"
      ],
      "metadata": {
        "id": "FIOesT14QQYH"
      },
      "execution_count": null,
      "outputs": []
    },
    {
      "cell_type": "code",
      "source": [
        "for k in [15, 16]: # opciones de k\n",
        "  for m in [8, 10]: # opciones de m\n",
        "    for e in [1, 2, 3]: # opciones de epsilon\n",
        "      tiempo, frecuencia, error, coste = CMS(2**e, 2**k, 2**m, dataset, 'Business')\n",
        "      tiempo2, frecuencia2, error2, coste2 = HCMS(2**e, 2**k, 2**m, dataset, 'Business')\n",
        "\n",
        "      # añadimos filas por su nombre de fila\n",
        "      fila = '(2^'+ str(e) + ', 2^'+ str(k) + ', 2^'+ str(m) + ')'\n",
        "      ws.append([fila, tiempo, tiempo2, frecuencia, frecuencia2, error, error2, coste, coste2])\n",
        "\n",
        "# Guardar el archivo en cualquier ruta, si no la especificas detalladamente la pondra en la carpeta donde estas corriendo este programa\n",
        "wb.save(\"Comparaciones-CMS-HCMS.xlsx\")"
      ],
      "metadata": {
        "id": "jRlmmsrbUVU0"
      },
      "execution_count": null,
      "outputs": []
    }
  ],
  "metadata": {
    "colab": {
      "provenance": [],
      "gpuType": "T4"
    },
    "kernelspec": {
      "display_name": "Python 3",
      "name": "python3"
    },
    "language_info": {
      "name": "python"
    },
    "accelerator": "GPU"
  },
  "nbformat": 4,
  "nbformat_minor": 0
}
